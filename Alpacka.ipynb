{
 "cells": [
  {
   "cell_type": "code",
   "execution_count": 109,
   "id": "4a944e57-96cd-4b21-912f-965225950375",
   "metadata": {
    "collapsed": true,
    "jupyter": {
     "outputs_hidden": true
    }
   },
   "outputs": [
    {
     "name": "stderr",
     "output_type": "stream",
     "text": [
      "Exception in thread Thread-1:\n",
      "Traceback (most recent call last):\n",
      "  File \"C:\\Users\\alexm\\AppData\\Local\\Programs\\Python\\Python39\\lib\\threading.py\", line 950, in _bootstrap_inner\n",
      "    self.run()\n",
      "  File \"C:\\Users\\alexm\\AppData\\Local\\Programs\\Python\\Python39\\lib\\threading.py\", line 888, in run\n",
      "    self._target(*self._args, **self._kwargs)\n",
      "  File \"C:\\Users\\alexm\\OneDrive\\Desktop\\Alpacka\\Alpacka\\simulation.py\", line 78, in _run_simulation\n",
      "    self.sim.stopSimulation()\n",
      "  File \"C:\\Users\\alexm\\AppData\\Local\\Programs\\Python\\Python39\\lib\\site-packages\\coppeliasim_zmqremoteapi_client\\__init__.py\", line 174, in <lambda>\n",
      "    setattr(ret, k, lambda *a, func=f'{name}.{k}': self.call(func, a))\n",
      "  File \"C:\\Users\\alexm\\AppData\\Local\\Programs\\Python\\Python39\\lib\\site-packages\\coppeliasim_zmqremoteapi_client\\__init__.py\", line 136, in call\n",
      "    self._send({'func': func, 'args': args})\n",
      "  File \"C:\\Users\\alexm\\AppData\\Local\\Programs\\Python\\Python39\\lib\\site-packages\\coppeliasim_zmqremoteapi_client\\__init__.py\", line 116, in _send\n",
      "    self.socket.send(rawReq)\n",
      "  File \"C:\\Users\\alexm\\AppData\\Local\\Programs\\Python\\Python39\\lib\\site-packages\\zmq\\sugar\\socket.py\", line 710, in send\n",
      "    return super().send(data, flags=flags, copy=copy, track=track)\n",
      "  File \"_zmq.py\", line 1092, in zmq.backend.cython._zmq.Socket.send\n",
      "  File \"_zmq.py\", line 1140, in zmq.backend.cython._zmq.Socket.send\n",
      "  File \"_zmq.py\", line 1344, in zmq.backend.cython._zmq._send_copy\n",
      "  File \"_zmq.py\", line 1339, in zmq.backend.cython._zmq._send_copy\n",
      "  File \"_zmq.py\", line 179, in zmq.backend.cython._zmq._check_rc\n",
      "zmq.error.ZMQError: Operation cannot be accomplished in current state\n"
     ]
    }
   ],
   "source": [
    "!python start.py"
   ]
  }
 ],
 "metadata": {
  "kernelspec": {
   "display_name": "Python 3 (ipykernel)",
   "language": "python",
   "name": "python3"
  },
  "language_info": {
   "codemirror_mode": {
    "name": "ipython",
    "version": 3
   },
   "file_extension": ".py",
   "mimetype": "text/x-python",
   "name": "python",
   "nbconvert_exporter": "python",
   "pygments_lexer": "ipython3",
   "version": "3.9.0"
  }
 },
 "nbformat": 4,
 "nbformat_minor": 5
}
