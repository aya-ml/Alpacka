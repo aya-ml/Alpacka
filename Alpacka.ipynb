{
 "cells": [
  {
   "cell_type": "code",
   "execution_count": 18,
   "id": "4a944e57-96cd-4b21-912f-965225950375",
   "metadata": {},
   "outputs": [],
   "source": [
    "!python start.py"
   ]
  },
  {
   "cell_type": "code",
   "execution_count": null,
   "id": "8075a39a-120b-4003-8743-3a81f2a35134",
   "metadata": {},
   "outputs": [],
   "source": []
  }
 ],
 "metadata": {
  "kernelspec": {
   "display_name": "Python 3 (ipykernel)",
   "language": "python",
   "name": "python3"
  },
  "language_info": {
   "codemirror_mode": {
    "name": "ipython",
    "version": 3
   },
   "file_extension": ".py",
   "mimetype": "text/x-python",
   "name": "python",
   "nbconvert_exporter": "python",
   "pygments_lexer": "ipython3",
   "version": "3.9.0"
  }
 },
 "nbformat": 4,
 "nbformat_minor": 5
}
