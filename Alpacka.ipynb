{
 "cells": [
  {
   "cell_type": "code",
   "execution_count": 38,
   "id": "4a944e57-96cd-4b21-912f-965225950375",
   "metadata": {},
   "outputs": [],
   "source": [
    "!python start.py"
   ]
  },
  {
   "cell_type": "code",
   "execution_count": null,
   "id": "060837d1-9cbf-4775-b670-2ad33e2631df",
   "metadata": {},
   "outputs": [],
   "source": []
  }
 ],
 "metadata": {
  "kernelspec": {
   "display_name": "Python 3 (ipykernel)",
   "language": "python",
   "name": "python3"
  },
  "language_info": {
   "codemirror_mode": {
    "name": "ipython",
    "version": 3
   },
   "file_extension": ".py",
   "mimetype": "text/x-python",
   "name": "python",
   "nbconvert_exporter": "python",
   "pygments_lexer": "ipython3",
   "version": "3.9.0"
  }
 },
 "nbformat": 4,
 "nbformat_minor": 5
}
